{
 "cells": [
  {
   "cell_type": "markdown",
   "id": "47a6ac80",
   "metadata": {},
   "source": [
    "# Gold Data Aggregation\n",
    "\n",
    "**Purpose:**  \n",
    "Transform the curated [Silver](./2_silver.ipynb) dataset into information-ready assets optimized for reporting, dashboards, and analytics consumption. Gold tables and views are structured to answer specific questions efficiently, with pre-computed metrics and clear dimensional relationships.\n",
    "\n",
    "**Transformations Applied:**\n",
    "- **Aggregate** key metrics over animal shelter dimensions (monthly intake counts, outcome rates by breed)  \n",
    "- **Compute** derived KPIs (average age at intake, percent adoption rate)  \n",
    "- **Build** visualizations (charts, dashboards) off these Gold-layer models to surface insights \n",
    "\n",
    "These Gold-layer assets deliver high performance and an intuitive schema for end users, supporting ad-hoc exploration, charting, and executive summaries.\n",
    "\n",
    "For more on Medallion Architecture, see [Databricks Glossary: Medallion Architecture](https://www.databricks.com/glossary/medallion-architecture) (Databricks, n.d.).\n",
    "\n",
    "---\n",
    "\n",
    "### References  \n",
    "Databricks. (n.d.). *Medallion Architecture*. Retrieved May 10, 2025, from https://www.databricks.com/glossary/medallion-architecture\n"
   ]
  },
  {
   "cell_type": "markdown",
   "id": "688ee40e",
   "metadata": {},
   "source": []
  }
 ],
 "metadata": {
  "language_info": {
   "name": "python"
  }
 },
 "nbformat": 4,
 "nbformat_minor": 5
}
