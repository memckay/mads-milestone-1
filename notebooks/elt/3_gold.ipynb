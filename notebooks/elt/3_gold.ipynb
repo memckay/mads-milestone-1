{
 "cells": [
  {
   "cell_type": "markdown",
   "id": "47a6ac80",
   "metadata": {},
   "source": [
    "# Gold Data Aggregation\n",
    "\n",
    "**Purpose:**  \n",
    "Transform the curated [SILVER_DF](./2_silver.ipynb) dataset into information-ready assets optimized for reporting, dashboards, and analytics consumption. Gold tables and views are structured to answer specific questions efficiently, with pre-computed metrics and clear dimensional relationships.\n",
    "\n",
    "**Transformations Applied:**\n",
    "- **Aggregate** key metrics over animal shelter dimensions (monthly intake counts, outcome rates by breed)  \n",
    "- **Compute** derived KPIs (average age at intake, percent adoption rate)  \n",
    "- **Build** visualizations (charts, dashboards) off these Gold-layer models to surface insights \n",
    "\n",
    "These Gold-layer assets deliver high performance and an intuitive schema for end users, supporting ad-hoc exploration, charting, and executive summaries.\n",
    "\n",
    "For more on Medallion Architecture, see [Databricks Glossary: Medallion Architecture](https://www.databricks.com/glossary/medallion-architecture) (Databricks, n.d.).\n",
    "\n",
    "---\n",
    "\n",
    "### References  \n",
    "Databricks. (n.d.). *Medallion Architecture*. Retrieved May 10, 2025, from https://www.databricks.com/glossary/medallion-architecture\n"
   ]
  },
  {
   "cell_type": "markdown",
   "id": "14beb2f6",
   "metadata": {},
   "source": [
    "## Table of Contents\n",
    "\n",
    "1. [Setup](#1-setup)  \n",
    "   Install required packages and import libraries.\n",
    "\n",
    "2. [Configuration & Data Loading](#2-configuration-and-data-loading)  \n",
    "   Centralize file paths, API parameters, and date-column lists, then ingest the raw Bronze dataset into pandas."
   ]
  },
  {
   "cell_type": "markdown",
   "id": "688ee40e",
   "metadata": {},
   "source": [
    "## 1. Setup\n",
    "\n",
    "**Purpose:**  Ensure the environment has all necessary libraries installed and imported.  \n",
    "```python\n",
    "# Install project-wide dependencies\n",
    "%pip install -r ../../requirements.txt\n",
    "``` \n",
    "\n",
    "> **Note:** we use a project-wide `requirements.txt` for consistency"
   ]
  },
  {
   "cell_type": "code",
   "execution_count": 18,
   "id": "89dbff94",
   "metadata": {},
   "outputs": [
    {
     "name": "stdout",
     "output_type": "stream",
     "text": [
      "Requirement already satisfied: seaborn==0.13.2 in /opt/homebrew/Caskroom/miniconda/base/lib/python3.11/site-packages (from -r ../../requirements.txt (line 1)) (0.13.2)\n",
      "Requirement already satisfied: pandas==2.2.2 in /opt/homebrew/Caskroom/miniconda/base/lib/python3.11/site-packages (from -r ../../requirements.txt (line 2)) (2.2.2)\n",
      "Requirement already satisfied: matplotlib==3.9.2 in /opt/homebrew/Caskroom/miniconda/base/lib/python3.11/site-packages (from -r ../../requirements.txt (line 3)) (3.9.2)\n",
      "Requirement already satisfied: pyarrow==20.0.0 in /opt/homebrew/Caskroom/miniconda/base/lib/python3.11/site-packages (from -r ../../requirements.txt (line 4)) (20.0.0)\n",
      "Requirement already satisfied: numpy==1.26.4 in /opt/homebrew/Caskroom/miniconda/base/lib/python3.11/site-packages (from -r ../../requirements.txt (line 5)) (1.26.4)\n",
      "Requirement already satisfied: ruff==0.7.1 in /opt/homebrew/Caskroom/miniconda/base/lib/python3.11/site-packages (from -r ../../requirements.txt (line 6)) (0.7.1)\n",
      "Requirement already satisfied: pre-commit==4.2.0 in /opt/homebrew/Caskroom/miniconda/base/lib/python3.11/site-packages (from -r ../../requirements.txt (line 7)) (4.2.0)\n",
      "Requirement already satisfied: python-dateutil>=2.8.2 in /opt/homebrew/Caskroom/miniconda/base/lib/python3.11/site-packages (from pandas==2.2.2->-r ../../requirements.txt (line 2)) (2.8.2)\n",
      "Requirement already satisfied: pytz>=2020.1 in /opt/homebrew/Caskroom/miniconda/base/lib/python3.11/site-packages (from pandas==2.2.2->-r ../../requirements.txt (line 2)) (2024.1)\n",
      "Requirement already satisfied: tzdata>=2022.7 in /opt/homebrew/Caskroom/miniconda/base/lib/python3.11/site-packages (from pandas==2.2.2->-r ../../requirements.txt (line 2)) (2023.3)\n",
      "Requirement already satisfied: contourpy>=1.0.1 in /opt/homebrew/Caskroom/miniconda/base/lib/python3.11/site-packages (from matplotlib==3.9.2->-r ../../requirements.txt (line 3)) (1.3.2)\n",
      "Requirement already satisfied: cycler>=0.10 in /opt/homebrew/Caskroom/miniconda/base/lib/python3.11/site-packages (from matplotlib==3.9.2->-r ../../requirements.txt (line 3)) (0.12.1)\n",
      "Requirement already satisfied: fonttools>=4.22.0 in /opt/homebrew/Caskroom/miniconda/base/lib/python3.11/site-packages (from matplotlib==3.9.2->-r ../../requirements.txt (line 3)) (4.58.0)\n",
      "Requirement already satisfied: kiwisolver>=1.3.1 in /opt/homebrew/Caskroom/miniconda/base/lib/python3.11/site-packages (from matplotlib==3.9.2->-r ../../requirements.txt (line 3)) (1.4.8)\n",
      "Requirement already satisfied: packaging>=20.0 in /opt/homebrew/Caskroom/miniconda/base/lib/python3.11/site-packages (from matplotlib==3.9.2->-r ../../requirements.txt (line 3)) (24.0)\n",
      "Requirement already satisfied: pillow>=8 in /opt/homebrew/Caskroom/miniconda/base/lib/python3.11/site-packages (from matplotlib==3.9.2->-r ../../requirements.txt (line 3)) (11.2.1)\n",
      "Requirement already satisfied: pyparsing>=2.3.1 in /opt/homebrew/Caskroom/miniconda/base/lib/python3.11/site-packages (from matplotlib==3.9.2->-r ../../requirements.txt (line 3)) (3.2.3)\n",
      "Requirement already satisfied: cfgv>=2.0.0 in /opt/homebrew/Caskroom/miniconda/base/lib/python3.11/site-packages (from pre-commit==4.2.0->-r ../../requirements.txt (line 7)) (3.4.0)\n",
      "Requirement already satisfied: identify>=1.0.0 in /opt/homebrew/Caskroom/miniconda/base/lib/python3.11/site-packages (from pre-commit==4.2.0->-r ../../requirements.txt (line 7)) (2.6.12)\n",
      "Requirement already satisfied: nodeenv>=0.11.1 in /opt/homebrew/Caskroom/miniconda/base/lib/python3.11/site-packages (from pre-commit==4.2.0->-r ../../requirements.txt (line 7)) (1.9.1)\n",
      "Requirement already satisfied: pyyaml>=5.1 in /opt/homebrew/Caskroom/miniconda/base/lib/python3.11/site-packages (from pre-commit==4.2.0->-r ../../requirements.txt (line 7)) (6.0.1)\n",
      "Requirement already satisfied: virtualenv>=20.10.0 in /opt/homebrew/Caskroom/miniconda/base/lib/python3.11/site-packages (from pre-commit==4.2.0->-r ../../requirements.txt (line 7)) (20.26.3)\n",
      "Requirement already satisfied: six>=1.5 in /opt/homebrew/Caskroom/miniconda/base/lib/python3.11/site-packages (from python-dateutil>=2.8.2->pandas==2.2.2->-r ../../requirements.txt (line 2)) (1.16.0)\n",
      "Requirement already satisfied: distlib<1,>=0.3.7 in /opt/homebrew/Caskroom/miniconda/base/lib/python3.11/site-packages (from virtualenv>=20.10.0->pre-commit==4.2.0->-r ../../requirements.txt (line 7)) (0.3.8)\n",
      "Requirement already satisfied: filelock<4,>=3.12.2 in /opt/homebrew/Caskroom/miniconda/base/lib/python3.11/site-packages (from virtualenv>=20.10.0->pre-commit==4.2.0->-r ../../requirements.txt (line 7)) (3.15.4)\n",
      "Requirement already satisfied: platformdirs<5,>=3.9.1 in /opt/homebrew/Caskroom/miniconda/base/lib/python3.11/site-packages (from virtualenv>=20.10.0->pre-commit==4.2.0->-r ../../requirements.txt (line 7)) (3.10.0)\n",
      "Note: you may need to restart the kernel to use updated packages.\n"
     ]
    }
   ],
   "source": [
    "%pip install -r ../../requirements.txt"
   ]
  },
  {
   "cell_type": "code",
   "execution_count": 29,
   "id": "e890147d",
   "metadata": {},
   "outputs": [],
   "source": [
    "import pandas as pd"
   ]
  },
  {
   "cell_type": "code",
   "execution_count": 30,
   "id": "89d8ca02",
   "metadata": {},
   "outputs": [],
   "source": [
    "# Data source configurations\n",
    "SILVER_FILE_PATH = \"../../data-assets/silver/silver.parquet\"\n",
    "SILVER_DF = pd.read_parquet(SILVER_FILE_PATH)"
   ]
  },
  {
   "cell_type": "code",
   "execution_count": 40,
   "id": "0d8707f0",
   "metadata": {},
   "outputs": [
    {
     "name": "stdout",
     "output_type": "stream",
     "text": [
      "Available columns in SILVER_DF:\n",
      "['animal_id', 'animal_type', 'breed', 'primary_color', 'age', 'date_of_birth', 'sex', 'intake_type', 'intake_condition', 'intake_reason', 'intake_date', 'outcome_type', 'outcome_date', 'region', 'age_stage', 'season']\n",
      "\n",
      "First few rows:\n",
      "  animal_id animal_type       breed primary_color       age date_of_birth  \\\n",
      "0  A0011910         dog    pit_bull         brown  2.494182           NaT   \n",
      "1  A0011910         dog    pit_bull         white  2.494182           NaT   \n",
      "2  A0178985         dog  rottweiler         other  2.494182           NaT   \n",
      "3  A0180810         dog       mixed         other  2.494182           NaT   \n",
      "4  A0180810         dog       mixed         black  2.494182           NaT   \n",
      "\n",
      "      sex intake_type intake_condition    intake_reason intake_date  \\\n",
      "0    male       stray          healthy            other  2023-12-21   \n",
      "1  female   treatment          healthy          medical  2024-02-19   \n",
      "2  female       stray          medical            other  2024-06-20   \n",
      "3  female   surrender          healthy  owner_surrender  2024-10-07   \n",
      "4    male      foster          healthy     for_adoption  2024-11-13   \n",
      "\n",
      "  outcome_type outcome_date  region age_stage  season  \n",
      "0     transfer   2024-01-09  dallas     adult  Winter  \n",
      "1    treatment   2024-02-19  dallas     adult  Winter  \n",
      "2   euthanasia   2024-06-21  dallas     adult  Summer  \n",
      "3       foster   2024-10-18  dallas     adult    Fall  \n",
      "4     adoption   2024-11-13  dallas     adult    Fall  \n"
     ]
    }
   ],
   "source": [
    "# Let's see what columns you actually have\n",
    "print(\"Available columns in SILVER_DF:\")\n",
    "print(list(SILVER_DF.columns))\n",
    "print(\"\\nFirst few rows:\")\n",
    "print(SILVER_DF.head())"
   ]
  },
  {
   "cell_type": "code",
   "execution_count": null,
   "id": "73f5ee03",
   "metadata": {},
   "outputs": [],
   "source": []
  }
 ],
 "metadata": {
  "kernelspec": {
   "display_name": "base",
   "language": "python",
   "name": "python3"
  },
  "language_info": {
   "codemirror_mode": {
    "name": "ipython",
    "version": 3
   },
   "file_extension": ".py",
   "mimetype": "text/x-python",
   "name": "python",
   "nbconvert_exporter": "python",
   "pygments_lexer": "ipython3",
   "version": "3.11.8"
  }
 },
 "nbformat": 4,
 "nbformat_minor": 5
}
